{
 "cells": [
  {
   "cell_type": "code",
   "execution_count": 88,
   "metadata": {
    "collapsed": true
   },
   "outputs": [],
   "source": [
    "import numpy as np # linear algebra\n",
    "import pandas as pd # data processing, CSV file I/O (e.g. pd.read_csv)\n",
    "import matplotlib.pyplot as plt # data visualization library\n",
    "import matplotlib.mlab as mlab\n",
    "import seaborn as sns \n",
    "import glob as gb\n",
    "%matplotlib inline\n",
    "\n",
    "from sklearn.cross_validation import train_test_split\n",
    "from sklearn.tree import DecisionTreeClassifier\n",
    "from sklearn.metrics import accuracy_score\n",
    "from sklearn import tree"
   ]
  },
  {
   "cell_type": "code",
   "execution_count": 89,
   "metadata": {
    "collapsed": true
   },
   "outputs": [],
   "source": [
    "header_row = ['age','sex','cp','blood_pressure','cholesterol','fbs<120','ecg','maxhr_rate','eiang','peak','slope','vessels','thal','diagnosis']\n",
    "df = pd.read_excel(\"C:/Users/carllel colquhoun/Desktop/PYTHON FILES/LabWeek5/CardiologyNumerical.xls\",names=header_row)"
   ]
  },
  {
   "cell_type": "code",
   "execution_count": 90,
   "metadata": {},
   "outputs": [
    {
     "data": {
      "text/html": [
       "<div>\n",
       "<style>\n",
       "    .dataframe thead tr:only-child th {\n",
       "        text-align: right;\n",
       "    }\n",
       "\n",
       "    .dataframe thead th {\n",
       "        text-align: left;\n",
       "    }\n",
       "\n",
       "    .dataframe tbody tr th {\n",
       "        vertical-align: top;\n",
       "    }\n",
       "</style>\n",
       "<table border=\"1\" class=\"dataframe\">\n",
       "  <thead>\n",
       "    <tr style=\"text-align: right;\">\n",
       "      <th></th>\n",
       "      <th>age</th>\n",
       "      <th>sex</th>\n",
       "      <th>cp</th>\n",
       "      <th>blood_pressure</th>\n",
       "      <th>cholesterol</th>\n",
       "      <th>fbs&lt;120</th>\n",
       "      <th>ecg</th>\n",
       "      <th>maxhr_rate</th>\n",
       "      <th>eiang</th>\n",
       "      <th>peak</th>\n",
       "      <th>slope</th>\n",
       "      <th>vessels</th>\n",
       "      <th>thal</th>\n",
       "      <th>diagnosis</th>\n",
       "    </tr>\n",
       "  </thead>\n",
       "  <tbody>\n",
       "    <tr>\n",
       "      <th>2</th>\n",
       "      <td>60</td>\n",
       "      <td>1</td>\n",
       "      <td>4</td>\n",
       "      <td>130</td>\n",
       "      <td>206</td>\n",
       "      <td>0</td>\n",
       "      <td>2</td>\n",
       "      <td>132</td>\n",
       "      <td>1</td>\n",
       "      <td>2.4</td>\n",
       "      <td>2</td>\n",
       "      <td>2</td>\n",
       "      <td>7</td>\n",
       "      <td>0</td>\n",
       "    </tr>\n",
       "    <tr>\n",
       "      <th>3</th>\n",
       "      <td>49</td>\n",
       "      <td>1</td>\n",
       "      <td>2</td>\n",
       "      <td>130</td>\n",
       "      <td>266</td>\n",
       "      <td>0</td>\n",
       "      <td>0</td>\n",
       "      <td>171</td>\n",
       "      <td>0</td>\n",
       "      <td>0.6</td>\n",
       "      <td>1</td>\n",
       "      <td>0</td>\n",
       "      <td>3</td>\n",
       "      <td>1</td>\n",
       "    </tr>\n",
       "    <tr>\n",
       "      <th>4</th>\n",
       "      <td>64</td>\n",
       "      <td>1</td>\n",
       "      <td>1</td>\n",
       "      <td>110</td>\n",
       "      <td>211</td>\n",
       "      <td>0</td>\n",
       "      <td>2</td>\n",
       "      <td>144</td>\n",
       "      <td>1</td>\n",
       "      <td>1.8</td>\n",
       "      <td>2</td>\n",
       "      <td>0</td>\n",
       "      <td>3</td>\n",
       "      <td>1</td>\n",
       "    </tr>\n",
       "    <tr>\n",
       "      <th>5</th>\n",
       "      <td>63</td>\n",
       "      <td>1</td>\n",
       "      <td>4</td>\n",
       "      <td>130</td>\n",
       "      <td>254</td>\n",
       "      <td>0</td>\n",
       "      <td>2</td>\n",
       "      <td>147</td>\n",
       "      <td>0</td>\n",
       "      <td>1.4</td>\n",
       "      <td>2</td>\n",
       "      <td>1</td>\n",
       "      <td>7</td>\n",
       "      <td>0</td>\n",
       "    </tr>\n",
       "    <tr>\n",
       "      <th>6</th>\n",
       "      <td>53</td>\n",
       "      <td>1</td>\n",
       "      <td>4</td>\n",
       "      <td>140</td>\n",
       "      <td>203</td>\n",
       "      <td>1</td>\n",
       "      <td>2</td>\n",
       "      <td>155</td>\n",
       "      <td>1</td>\n",
       "      <td>3.1</td>\n",
       "      <td>3</td>\n",
       "      <td>0</td>\n",
       "      <td>7</td>\n",
       "      <td>0</td>\n",
       "    </tr>\n",
       "  </tbody>\n",
       "</table>\n",
       "</div>"
      ],
      "text/plain": [
       "  age sex cp blood_pressure cholesterol fbs<120 ecg maxhr_rate eiang peak  \\\n",
       "2  60   1  4            130         206       0   2        132     1  2.4   \n",
       "3  49   1  2            130         266       0   0        171     0  0.6   \n",
       "4  64   1  1            110         211       0   2        144     1  1.8   \n",
       "5  63   1  4            130         254       0   2        147     0  1.4   \n",
       "6  53   1  4            140         203       1   2        155     1  3.1   \n",
       "\n",
       "  slope vessels thal diagnosis  \n",
       "2     2       2    7         0  \n",
       "3     1       0    3         1  \n",
       "4     2       0    3         1  \n",
       "5     2       1    7         0  \n",
       "6     3       0    7         0  "
      ]
     },
     "execution_count": 90,
     "metadata": {},
     "output_type": "execute_result"
    }
   ],
   "source": [
    "#removal of first two rows(except header)\n",
    "df = df.drop([0,1],axis=0)\n",
    "df.head()"
   ]
  },
  {
   "cell_type": "code",
   "execution_count": 91,
   "metadata": {
    "collapsed": true
   },
   "outputs": [],
   "source": [
    "#collection of features to analyze and convert values to numeric\n",
    "df[['blood_pressure','cholesterol','maxhr_rate','diagnosis']] = df[['blood_pressure','cholesterol','maxhr_rate','diagnosis']].astype(float)\n",
    "ws=df[['blood_pressure','cholesterol','maxhr_rate','diagnosis']]"
   ]
  },
  {
   "cell_type": "code",
   "execution_count": 92,
   "metadata": {},
   "outputs": [
    {
     "data": {
      "text/plain": [
       "blood_pressure    False\n",
       "cholesterol       False\n",
       "maxhr_rate        False\n",
       "diagnosis         False\n",
       "dtype: bool"
      ]
     },
     "execution_count": 92,
     "metadata": {},
     "output_type": "execute_result"
    }
   ],
   "source": [
    "#check if there are any null values\n",
    "ws.isnull().any()"
   ]
  },
  {
   "cell_type": "code",
   "execution_count": 93,
   "metadata": {},
   "outputs": [
    {
     "data": {
      "text/html": [
       "<div>\n",
       "<style>\n",
       "    .dataframe thead tr:only-child th {\n",
       "        text-align: right;\n",
       "    }\n",
       "\n",
       "    .dataframe thead th {\n",
       "        text-align: left;\n",
       "    }\n",
       "\n",
       "    .dataframe tbody tr th {\n",
       "        vertical-align: top;\n",
       "    }\n",
       "</style>\n",
       "<table border=\"1\" class=\"dataframe\">\n",
       "  <thead>\n",
       "    <tr style=\"text-align: right;\">\n",
       "      <th></th>\n",
       "      <th>blood_pressure</th>\n",
       "      <th>cholesterol</th>\n",
       "      <th>maxhr_rate</th>\n",
       "      <th>diagnosis</th>\n",
       "    </tr>\n",
       "  </thead>\n",
       "  <tbody>\n",
       "    <tr>\n",
       "      <th>count</th>\n",
       "      <td>303.000000</td>\n",
       "      <td>303.000000</td>\n",
       "      <td>303.000000</td>\n",
       "      <td>303.000000</td>\n",
       "    </tr>\n",
       "    <tr>\n",
       "      <th>mean</th>\n",
       "      <td>131.623762</td>\n",
       "      <td>246.264026</td>\n",
       "      <td>149.646865</td>\n",
       "      <td>0.544554</td>\n",
       "    </tr>\n",
       "    <tr>\n",
       "      <th>std</th>\n",
       "      <td>17.538143</td>\n",
       "      <td>51.830751</td>\n",
       "      <td>22.905161</td>\n",
       "      <td>0.498835</td>\n",
       "    </tr>\n",
       "    <tr>\n",
       "      <th>min</th>\n",
       "      <td>94.000000</td>\n",
       "      <td>126.000000</td>\n",
       "      <td>71.000000</td>\n",
       "      <td>0.000000</td>\n",
       "    </tr>\n",
       "    <tr>\n",
       "      <th>25%</th>\n",
       "      <td>120.000000</td>\n",
       "      <td>211.000000</td>\n",
       "      <td>133.500000</td>\n",
       "      <td>0.000000</td>\n",
       "    </tr>\n",
       "    <tr>\n",
       "      <th>50%</th>\n",
       "      <td>130.000000</td>\n",
       "      <td>240.000000</td>\n",
       "      <td>153.000000</td>\n",
       "      <td>1.000000</td>\n",
       "    </tr>\n",
       "    <tr>\n",
       "      <th>75%</th>\n",
       "      <td>140.000000</td>\n",
       "      <td>274.500000</td>\n",
       "      <td>166.000000</td>\n",
       "      <td>1.000000</td>\n",
       "    </tr>\n",
       "    <tr>\n",
       "      <th>max</th>\n",
       "      <td>200.000000</td>\n",
       "      <td>564.000000</td>\n",
       "      <td>202.000000</td>\n",
       "      <td>1.000000</td>\n",
       "    </tr>\n",
       "  </tbody>\n",
       "</table>\n",
       "</div>"
      ],
      "text/plain": [
       "       blood_pressure  cholesterol  maxhr_rate   diagnosis\n",
       "count      303.000000   303.000000  303.000000  303.000000\n",
       "mean       131.623762   246.264026  149.646865    0.544554\n",
       "std         17.538143    51.830751   22.905161    0.498835\n",
       "min         94.000000   126.000000   71.000000    0.000000\n",
       "25%        120.000000   211.000000  133.500000    0.000000\n",
       "50%        130.000000   240.000000  153.000000    1.000000\n",
       "75%        140.000000   274.500000  166.000000    1.000000\n",
       "max        200.000000   564.000000  202.000000    1.000000"
      ]
     },
     "execution_count": 93,
     "metadata": {},
     "output_type": "execute_result"
    }
   ],
   "source": [
    "#explore features\n",
    "ws.describe()"
   ]
  },
  {
   "cell_type": "code",
   "execution_count": 94,
   "metadata": {},
   "outputs": [
    {
     "data": {
      "image/png": "[encoded data removed]",
      "text/plain": [
       "<matplotlib.figure.Figure at 0x290323d5b38>"
      ]
     },
     "metadata": {},
     "output_type": "display_data"
    }
   ],
   "source": [
    "#Dribution analysis\n",
    "fig = plt.figure(figsize=(12, 6))\n",
    "\n",
    "chol = fig.add_subplot(121)\n",
    "maxhr = fig.add_subplot(122)\n",
    "\n",
    "chol.hist(ws.cholesterol, bins=80)\n",
    "chol.set_xlabel('Cholesterol/g')\n",
    "chol.set_xlabel(\"Histogram of Cholesterol\")\n",
    "chol.grid(True)\n",
    "maxhr.hist(ws.maxhr_rate, bins=80)\n",
    "maxhr.set_xlabel('Maximum heart rate')\n",
    "maxhr.set_xlabel(\"Histogram of maximum heart rate\")\n",
    "maxhr.grid(True)\n",
    "\n",
    "plt.show()"
   ]
  },
  {
   "cell_type": "code",
   "execution_count": 95,
   "metadata": {},
   "outputs": [
    {
     "data": {
      "text/plain": [
       "<matplotlib.axes._subplots.AxesSubplot at 0x290323d5860>"
      ]
     },
     "execution_count": 95,
     "metadata": {},
     "output_type": "execute_result"
    },
    {
     "data": {
      "image/png": "[encoded data removed]",
      "text/plain": [
       "<matplotlib.figure.Figure at 0x290323d5198>"
      ]
     },
     "metadata": {},
     "output_type": "display_data"
    }
   ],
   "source": [
    "ws.boxplot(column='cholesterol')"
   ]
  },
  {
   "cell_type": "code",
   "execution_count": 96,
   "metadata": {},
   "outputs": [
    {
     "data": {
      "text/plain": [
       "<matplotlib.axes._subplots.AxesSubplot at 0x29032658be0>"
      ]
     },
     "execution_count": 96,
     "metadata": {},
     "output_type": "execute_result"
    },
    {
     "data": {
      "image/png": "[encoded data removed]",
      "text/plain": [
       "<matplotlib.figure.Figure at 0x2903261eac8>"
      ]
     },
     "metadata": {},
     "output_type": "display_data"
    }
   ],
   "source": [
    "ws.boxplot(column='maxhr_rate')"
   ]
  },
  {
   "cell_type": "code",
   "execution_count": 97,
   "metadata": {},
   "outputs": [
    {
     "name": "stdout",
     "output_type": "stream",
     "text": [
      "Frequency Table for Angina:\n",
      "1     99\n",
      "0    204\n",
      "Name: eiang, dtype: int64\n",
      "\n",
      "Probility of being diagnosed healthy for each angina class:\n",
      "       diagnosis\n",
      "eiang           \n",
      "0       0.696078\n",
      "1       0.232323\n"
     ]
    }
   ],
   "source": [
    "temp1 = df['eiang'].value_counts(ascending=True)\n",
    "temp2 = df.pivot_table(values='diagnosis',index=['eiang'],aggfunc=lambda x: x.map({1:1,0:0}).mean())\n",
    "print ('Frequency Table for Angina:') \n",
    "print (temp1)\n",
    "\n",
    "print ('\\nProbility of being diagnosed healthy for each angina class:')\n",
    "print (temp2)"
   ]
  },
  {
   "cell_type": "code",
   "execution_count": 98,
   "metadata": {},
   "outputs": [
    {
     "data": {
      "text/plain": [
       "<matplotlib.axes._subplots.AxesSubplot at 0x290310292e8>"
      ]
     },
     "execution_count": 98,
     "metadata": {},
     "output_type": "execute_result"
    },
    {
     "data": {
      "image/png": "[encoded data removed]",
      "text/plain": [
       "<matplotlib.figure.Figure at 0x290324da358>"
      ]
     },
     "metadata": {},
     "output_type": "display_data"
    },
    {
     "data": {
      "image/png": "[encoded data removed]",
      "text/plain": [
       "<matplotlib.figure.Figure at 0x2903107de48>"
      ]
     },
     "metadata": {},
     "output_type": "display_data"
    }
   ],
   "source": [
    "fig = plt.figure(figsize=(8,4))\n",
    "ax1 = fig.add_subplot(121)\n",
    "ax1.set_xlabel('Angina')\n",
    "ax1.set_ylabel('Count of Patients')\n",
    "ax1.set_title(\"Patients by Angina\")\n",
    "temp1.plot(kind='bar')\n",
    "\n",
    "ax2 = fig.add_subplot(122)\n",
    "ax2.set_xlabel('Angina')\n",
    "ax2.set_ylabel('Probability of being diagnosed healthy')\n",
    "ax2.set_title(\"Probility of being diagnosed healthy for each angina class\")\n",
    "temp2.plot(kind = 'bar')"
   ]
  },
  {
   "cell_type": "code",
   "execution_count": 99,
   "metadata": {
    "collapsed": true
   },
   "outputs": [],
   "source": [
    "#regression analysis\n",
    "import statsmodels.formula.api as smf #import statsmodels to get the least squares regression estimator function"
   ]
  },
  {
   "cell_type": "code",
   "execution_count": 100,
   "metadata": {},
   "outputs": [
    {
     "data": {
      "text/html": [
       "<table class=\"simpletable\">\n",
       "<caption>OLS Regression Results</caption>\n",
       "<tr>\n",
       "  <th>Dep. Variable:</th>     <td>blood_pressure</td>  <th>  R-squared:         </th> <td>   0.015</td>\n",
       "</tr>\n",
       "<tr>\n",
       "  <th>Model:</th>                   <td>OLS</td>       <th>  Adj. R-squared:    </th> <td>   0.012</td>\n",
       "</tr>\n",
       "<tr>\n",
       "  <th>Method:</th>             <td>Least Squares</td>  <th>  F-statistic:       </th> <td>   4.637</td>\n",
       "</tr>\n",
       "<tr>\n",
       "  <th>Date:</th>             <td>Tue, 20 Mar 2018</td> <th>  Prob (F-statistic):</th>  <td>0.0321</td> \n",
       "</tr>\n",
       "<tr>\n",
       "  <th>Time:</th>                 <td>01:25:33</td>     <th>  Log-Likelihood:    </th> <td> -1295.0</td>\n",
       "</tr>\n",
       "<tr>\n",
       "  <th>No. Observations:</th>      <td>   303</td>      <th>  AIC:               </th> <td>   2594.</td>\n",
       "</tr>\n",
       "<tr>\n",
       "  <th>Df Residuals:</th>          <td>   301</td>      <th>  BIC:               </th> <td>   2601.</td>\n",
       "</tr>\n",
       "<tr>\n",
       "  <th>Df Model:</th>              <td>     1</td>      <th>                     </th>     <td> </td>   \n",
       "</tr>\n",
       "<tr>\n",
       "  <th>Covariance Type:</th>      <td>nonrobust</td>    <th>                     </th>     <td> </td>   \n",
       "</tr>\n",
       "</table>\n",
       "<table class=\"simpletable\">\n",
       "<tr>\n",
       "       <td></td>          <th>coef</th>     <th>std err</th>      <th>t</th>      <th>P>|t|</th>  <th>[0.025</th>    <th>0.975]</th>  \n",
       "</tr>\n",
       "<tr>\n",
       "  <th>Intercept</th>   <td>  121.3598</td> <td>    4.871</td> <td>   24.917</td> <td> 0.000</td> <td>  111.775</td> <td>  130.944</td>\n",
       "</tr>\n",
       "<tr>\n",
       "  <th>cholesterol</th> <td>    0.0417</td> <td>    0.019</td> <td>    2.153</td> <td> 0.032</td> <td>    0.004</td> <td>    0.080</td>\n",
       "</tr>\n",
       "</table>\n",
       "<table class=\"simpletable\">\n",
       "<tr>\n",
       "  <th>Omnibus:</th>       <td>25.774</td> <th>  Durbin-Watson:     </th> <td>   1.848</td>\n",
       "</tr>\n",
       "<tr>\n",
       "  <th>Prob(Omnibus):</th> <td> 0.000</td> <th>  Jarque-Bera (JB):  </th> <td>  30.771</td>\n",
       "</tr>\n",
       "<tr>\n",
       "  <th>Skew:</th>          <td> 0.680</td> <th>  Prob(JB):          </th> <td>2.08e-07</td>\n",
       "</tr>\n",
       "<tr>\n",
       "  <th>Kurtosis:</th>      <td> 3.765</td> <th>  Cond. No.          </th> <td>1.22e+03</td>\n",
       "</tr>\n",
       "</table>"
      ],
      "text/plain": [
       "<class 'statsmodels.iolib.summary.Summary'>\n",
       "\"\"\"\n",
       "                            OLS Regression Results                            \n",
       "==============================================================================\n",
       "Dep. Variable:         blood_pressure   R-squared:                       0.015\n",
       "Model:                            OLS   Adj. R-squared:                  0.012\n",
       "Method:                 Least Squares   F-statistic:                     4.637\n",
       "Date:                Tue, 20 Mar 2018   Prob (F-statistic):             0.0321\n",
       "Time:                        01:25:33   Log-Likelihood:                -1295.0\n",
       "No. Observations:                 303   AIC:                             2594.\n",
       "Df Residuals:                     301   BIC:                             2601.\n",
       "Df Model:                           1                                         \n",
       "Covariance Type:            nonrobust                                         \n",
       "===============================================================================\n",
       "                  coef    std err          t      P>|t|      [0.025      0.975]\n",
       "-------------------------------------------------------------------------------\n",
       "Intercept     121.3598      4.871     24.917      0.000     111.775     130.944\n",
       "cholesterol     0.0417      0.019      2.153      0.032       0.004       0.080\n",
       "==============================================================================\n",
       "Omnibus:                       25.774   Durbin-Watson:                   1.848\n",
       "Prob(Omnibus):                  0.000   Jarque-Bera (JB):               30.771\n",
       "Skew:                           0.680   Prob(JB):                     2.08e-07\n",
       "Kurtosis:                       3.765   Cond. No.                     1.22e+03\n",
       "==============================================================================\n",
       "\n",
       "Warnings:\n",
       "[1] Standard Errors assume that the covariance matrix of the errors is correctly specified.\n",
       "[2] The condition number is large, 1.22e+03. This might indicate that there are\n",
       "strong multicollinearity or other numerical problems.\n",
       "\"\"\""
      ]
     },
     "execution_count": 100,
     "metadata": {},
     "output_type": "execute_result"
    }
   ],
   "source": [
    "#Reg = ols(‘Dependent variable ~ independent variable(s), dataframe).fit()\n",
    "lm = smf.ols(formula='blood_pressure ~ cholesterol', data=ws).fit()\n",
    "lm.summary()"
   ]
  },
  {
   "cell_type": "code",
   "execution_count": 101,
   "metadata": {},
   "outputs": [
    {
     "data": {
      "text/plain": [
       "Intercept      3.883000e-75\n",
       "cholesterol    3.208205e-02\n",
       "dtype: float64"
      ]
     },
     "execution_count": 101,
     "metadata": {},
     "output_type": "execute_result"
    }
   ],
   "source": [
    "#Hypothesis Testing and p-values\n",
    "#Hypothesis test \n",
    "#null hypothesis: There is no relationship between cholesterol and blood pressure (and thus $\\beta_1$ equals zero)\n",
    "#alternative hypothesis: There is a relationship between cholesterol and blood pressure (and thus $\\beta_1$ is not equal to zero)\n",
    "# print the p-values for the model coefficients\n",
    "lm.pvalues\n",
    "#pvalue below 10 to the power of -2 = 0.02 less than 0.05(alpha)"
   ]
  },
  {
   "cell_type": "code",
   "execution_count": 102,
   "metadata": {
    "collapsed": true
   },
   "outputs": [],
   "source": [
    "#If the 95% confidence interval does not include zero, the p-value will be less than 0.05(using 0.05 as the cutoff is just a convention)\n",
    "#In this case, the p-value for cholesterol is far less than 0.05, and so we believe that there is a relationship between cholesterol and blood pressure."
   ]
  },
  {
   "cell_type": "code",
   "execution_count": 103,
   "metadata": {},
   "outputs": [
    {
     "data": {
      "text/plain": [
       "130.1168"
      ]
     },
     "execution_count": 103,
     "metadata": {},
     "output_type": "execute_result"
    }
   ],
   "source": [
    "#Lets say your cholesterol level is 210 . Then your blood pressure is predicted as follows\n",
    "y =  121.3598 + 0.0417 * 210\n",
    "y"
   ]
  },
  {
   "cell_type": "code",
   "execution_count": 104,
   "metadata": {},
   "outputs": [
    {
     "data": {
      "text/html": [
       "<div>\n",
       "<style>\n",
       "    .dataframe thead tr:only-child th {\n",
       "        text-align: right;\n",
       "    }\n",
       "\n",
       "    .dataframe thead th {\n",
       "        text-align: left;\n",
       "    }\n",
       "\n",
       "    .dataframe tbody tr th {\n",
       "        vertical-align: top;\n",
       "    }\n",
       "</style>\n",
       "<table border=\"1\" class=\"dataframe\">\n",
       "  <thead>\n",
       "    <tr style=\"text-align: right;\">\n",
       "      <th></th>\n",
       "      <th>cholesterol</th>\n",
       "    </tr>\n",
       "  </thead>\n",
       "  <tbody>\n",
       "    <tr>\n",
       "      <th>0</th>\n",
       "      <td>210</td>\n",
       "    </tr>\n",
       "  </tbody>\n",
       "</table>\n",
       "</div>"
      ],
      "text/plain": [
       "   cholesterol\n",
       "0          210"
      ]
     },
     "execution_count": 104,
     "metadata": {},
     "output_type": "execute_result"
    }
   ],
   "source": [
    "# you have to create a DataFrame since the Statsmodels formula interface expects it\n",
    "X_new = pd.DataFrame({'cholesterol': [210]})\n",
    "X_new.head()"
   ]
  },
  {
   "cell_type": "code",
   "execution_count": 105,
   "metadata": {},
   "outputs": [
    {
     "data": {
      "text/plain": [
       "0    130.112319\n",
       "dtype: float64"
      ]
     },
     "execution_count": 105,
     "metadata": {},
     "output_type": "execute_result"
    }
   ],
   "source": [
    "# use the model to make predictions on a new value\n",
    "lm.predict(X_new)\n"
   ]
  },
  {
   "cell_type": "code",
   "execution_count": 106,
   "metadata": {},
   "outputs": [
    {
     "data": {
      "text/html": [
       "<table class=\"simpletable\">\n",
       "<caption>OLS Regression Results</caption>\n",
       "<tr>\n",
       "  <th>Dep. Variable:</th>     <td>blood_pressure</td>  <th>  R-squared:         </th> <td>   0.017</td>\n",
       "</tr>\n",
       "<tr>\n",
       "  <th>Model:</th>                   <td>OLS</td>       <th>  Adj. R-squared:    </th> <td>   0.011</td>\n",
       "</tr>\n",
       "<tr>\n",
       "  <th>Method:</th>             <td>Least Squares</td>  <th>  F-statistic:       </th> <td>   2.631</td>\n",
       "</tr>\n",
       "<tr>\n",
       "  <th>Date:</th>             <td>Tue, 20 Mar 2018</td> <th>  Prob (F-statistic):</th>  <td>0.0736</td> \n",
       "</tr>\n",
       "<tr>\n",
       "  <th>Time:</th>                 <td>01:26:12</td>     <th>  Log-Likelihood:    </th> <td> -1294.7</td>\n",
       "</tr>\n",
       "<tr>\n",
       "  <th>No. Observations:</th>      <td>   303</td>      <th>  AIC:               </th> <td>   2595.</td>\n",
       "</tr>\n",
       "<tr>\n",
       "  <th>Df Residuals:</th>          <td>   300</td>      <th>  BIC:               </th> <td>   2607.</td>\n",
       "</tr>\n",
       "<tr>\n",
       "  <th>Df Model:</th>              <td>     2</td>      <th>                     </th>     <td> </td>   \n",
       "</tr>\n",
       "<tr>\n",
       "  <th>Covariance Type:</th>      <td>nonrobust</td>    <th>                     </th>     <td> </td>   \n",
       "</tr>\n",
       "</table>\n",
       "<table class=\"simpletable\">\n",
       "<tr>\n",
       "       <td></td>          <th>coef</th>     <th>std err</th>      <th>t</th>      <th>P>|t|</th>  <th>[0.025</th>    <th>0.975]</th>  \n",
       "</tr>\n",
       "<tr>\n",
       "  <th>Intercept</th>   <td>  126.6084</td> <td>    8.209</td> <td>   15.423</td> <td> 0.000</td> <td>  110.454</td> <td>  142.763</td>\n",
       "</tr>\n",
       "<tr>\n",
       "  <th>cholesterol</th> <td>    0.0415</td> <td>    0.019</td> <td>    2.144</td> <td> 0.033</td> <td>    0.003</td> <td>    0.080</td>\n",
       "</tr>\n",
       "<tr>\n",
       "  <th>maxhr_rate</th>  <td>   -0.0348</td> <td>    0.044</td> <td>   -0.795</td> <td> 0.428</td> <td>   -0.121</td> <td>    0.051</td>\n",
       "</tr>\n",
       "</table>\n",
       "<table class=\"simpletable\">\n",
       "<tr>\n",
       "  <th>Omnibus:</th>       <td>25.566</td> <th>  Durbin-Watson:     </th> <td>   1.839</td>\n",
       "</tr>\n",
       "<tr>\n",
       "  <th>Prob(Omnibus):</th> <td> 0.000</td> <th>  Jarque-Bera (JB):  </th> <td>  30.568</td>\n",
       "</tr>\n",
       "<tr>\n",
       "  <th>Skew:</th>          <td> 0.674</td> <th>  Prob(JB):          </th> <td>2.30e-07</td>\n",
       "</tr>\n",
       "<tr>\n",
       "  <th>Kurtosis:</th>      <td> 3.776</td> <th>  Cond. No.          </th> <td>2.39e+03</td>\n",
       "</tr>\n",
       "</table>"
      ],
      "text/plain": [
       "<class 'statsmodels.iolib.summary.Summary'>\n",
       "\"\"\"\n",
       "                            OLS Regression Results                            \n",
       "==============================================================================\n",
       "Dep. Variable:         blood_pressure   R-squared:                       0.017\n",
       "Model:                            OLS   Adj. R-squared:                  0.011\n",
       "Method:                 Least Squares   F-statistic:                     2.631\n",
       "Date:                Tue, 20 Mar 2018   Prob (F-statistic):             0.0736\n",
       "Time:                        01:26:12   Log-Likelihood:                -1294.7\n",
       "No. Observations:                 303   AIC:                             2595.\n",
       "Df Residuals:                     300   BIC:                             2607.\n",
       "Df Model:                           2                                         \n",
       "Covariance Type:            nonrobust                                         \n",
       "===============================================================================\n",
       "                  coef    std err          t      P>|t|      [0.025      0.975]\n",
       "-------------------------------------------------------------------------------\n",
       "Intercept     126.6084      8.209     15.423      0.000     110.454     142.763\n",
       "cholesterol     0.0415      0.019      2.144      0.033       0.003       0.080\n",
       "maxhr_rate     -0.0348      0.044     -0.795      0.428      -0.121       0.051\n",
       "==============================================================================\n",
       "Omnibus:                       25.566   Durbin-Watson:                   1.839\n",
       "Prob(Omnibus):                  0.000   Jarque-Bera (JB):               30.568\n",
       "Skew:                           0.674   Prob(JB):                     2.30e-07\n",
       "Kurtosis:                       3.776   Cond. No.                     2.39e+03\n",
       "==============================================================================\n",
       "\n",
       "Warnings:\n",
       "[1] Standard Errors assume that the covariance matrix of the errors is correctly specified.\n",
       "[2] The condition number is large, 2.39e+03. This might indicate that there are\n",
       "strong multicollinearity or other numerical problems.\n",
       "\"\"\""
      ]
     },
     "execution_count": 106,
     "metadata": {},
     "output_type": "execute_result"
    }
   ],
   "source": [
    "#Multivariate  Linear Regression\n",
    "lm = smf.ols(formula='blood_pressure ~ cholesterol + maxhr_rate', data=ws).fit()\n",
    "lm.summary()"
   ]
  },
  {
   "cell_type": "code",
   "execution_count": 107,
   "metadata": {},
   "outputs": [
    {
     "data": {
      "text/plain": [
       "Intercept      6.384174e-40\n",
       "cholesterol    3.283097e-02\n",
       "maxhr_rate     4.275093e-01\n",
       "dtype: float64"
      ]
     },
     "execution_count": 107,
     "metadata": {},
     "output_type": "execute_result"
    }
   ],
   "source": [
    "#Hypothesis Testing and p-values\n",
    "#Hypothesis test \n",
    "#null hypothesis: There is no relationship between cholesterol and blood pressure (and thus $\\beta_1$ equals zero)\n",
    "#alternative hypothesis: There is a relationship between cholesterol and blood pressure (and thus $\\beta_1$ is not equal to zero)\n",
    "# print the p-values for the model coefficients\n",
    "lm.pvalues\n",
    "#pvalue below 10 to the power of -2 and -1 is less than 0.05(alpha)"
   ]
  },
  {
   "cell_type": "code",
   "execution_count": 108,
   "metadata": {},
   "outputs": [
    {
     "data": {
      "image/png": "[encoded data removed]",
      "text/plain": [
       "<matplotlib.figure.Figure at 0x290306ecd68>"
      ]
     },
     "metadata": {},
     "output_type": "display_data"
    }
   ],
   "source": [
    "#Visualizing the regression results\n",
    "#Seaborn (sns), which has an incredibly simple and intuitive function for graphing regression lines with scatterplots\n",
    "sns.jointplot(x=\"cholesterol\", y=\"blood_pressure\", data=ws, kind = 'reg',fit_reg= True, size = 7)\n",
    "plt.title('Blood Pressure vs Cholesterol')\n",
    "plt.show()"
   ]
  },
  {
   "cell_type": "code",
   "execution_count": 109,
   "metadata": {},
   "outputs": [
    {
     "data": {
      "image/png": "[encoded data removed]",
      "text/plain": [
       "<matplotlib.figure.Figure at 0x290306f1e80>"
      ]
     },
     "metadata": {},
     "output_type": "display_data"
    }
   ],
   "source": [
    "#Visualizing the regression results\n",
    "sns.jointplot(x=\"cholesterol\", y=\"maxhr_rate\", data=ws, kind = 'reg',fit_reg= True, size = 7)\n",
    "plt.title('Blood Pressure vs Maximum Heart Rate')\n",
    "plt.show()"
   ]
  },
  {
   "cell_type": "code",
   "execution_count": 110,
   "metadata": {},
   "outputs": [
    {
     "data": {
      "text/html": [
       "<div>\n",
       "<style>\n",
       "    .dataframe thead tr:only-child th {\n",
       "        text-align: right;\n",
       "    }\n",
       "\n",
       "    .dataframe thead th {\n",
       "        text-align: left;\n",
       "    }\n",
       "\n",
       "    .dataframe tbody tr th {\n",
       "        vertical-align: top;\n",
       "    }\n",
       "</style>\n",
       "<table border=\"1\" class=\"dataframe\">\n",
       "  <thead>\n",
       "    <tr style=\"text-align: right;\">\n",
       "      <th></th>\n",
       "      <th>cholesterol</th>\n",
       "      <th>age</th>\n",
       "    </tr>\n",
       "  </thead>\n",
       "  <tbody>\n",
       "    <tr>\n",
       "      <th>2</th>\n",
       "      <td>206.0</td>\n",
       "      <td>60</td>\n",
       "    </tr>\n",
       "    <tr>\n",
       "      <th>3</th>\n",
       "      <td>266.0</td>\n",
       "      <td>49</td>\n",
       "    </tr>\n",
       "    <tr>\n",
       "      <th>4</th>\n",
       "      <td>211.0</td>\n",
       "      <td>64</td>\n",
       "    </tr>\n",
       "    <tr>\n",
       "      <th>5</th>\n",
       "      <td>254.0</td>\n",
       "      <td>63</td>\n",
       "    </tr>\n",
       "    <tr>\n",
       "      <th>6</th>\n",
       "      <td>203.0</td>\n",
       "      <td>53</td>\n",
       "    </tr>\n",
       "  </tbody>\n",
       "</table>\n",
       "</div>"
      ],
      "text/plain": [
       "   cholesterol age\n",
       "2        206.0  60\n",
       "3        266.0  49\n",
       "4        211.0  64\n",
       "5        254.0  63\n",
       "6        203.0  53"
      ]
     },
     "execution_count": 110,
     "metadata": {},
     "output_type": "execute_result"
    }
   ],
   "source": [
    "#We want to create natural groupings for a set of data objects(age and maximum heart rate)\n",
    "#K Means Clustering Algorithmn\n",
    "ws = df[['cholesterol','age',]]\n",
    "ws.head()"
   ]
  },
  {
   "cell_type": "code",
   "execution_count": 111,
   "metadata": {},
   "outputs": [
    {
     "data": {
      "text/plain": [
       "Text(0.5,0,'Cholesterol (mg)')"
      ]
     },
     "execution_count": 111,
     "metadata": {},
     "output_type": "execute_result"
    },
    {
     "data": {
      "image/png": "[encoded data removed]",
      "text/plain": [
       "<matplotlib.figure.Figure at 0x290326e2e10>"
      ]
     },
     "metadata": {},
     "output_type": "display_data"
    }
   ],
   "source": [
    "ws.columns = ['cholesterol', 'age']\n",
    "#show scatter plot of 303 observations for patients in terms of cholesterol\n",
    "plt.scatter(ws.cholesterol, ws.age)\n",
    "plt.title('Cardiology Data Scatter Plot')\n",
    "plt.ylabel('Age (years)')\n",
    "plt.xlabel('Cholesterol (mg)')"
   ]
  },
  {
   "cell_type": "code",
   "execution_count": 112,
   "metadata": {
    "collapsed": true
   },
   "outputs": [],
   "source": [
    "import sklearn\n",
    "from sklearn import cluster"
   ]
  },
  {
   "cell_type": "code",
   "execution_count": 113,
   "metadata": {
    "collapsed": true
   },
   "outputs": [],
   "source": [
    "cardio = np.array(ws)\n",
    "\n",
    "k=3\n",
    "kmeans = cluster.KMeans(n_clusters=k)\n",
    "kmeans.fit(cardio)\n",
    "\n",
    "labels = kmeans.labels_\n",
    "centroids = kmeans.cluster_centers_\n"
   ]
  },
  {
   "cell_type": "code",
   "execution_count": 114,
   "metadata": {},
   "outputs": [
    {
     "data": {
      "image/png": "[encoded data removed]",
      "text/plain": [
       "<matplotlib.figure.Figure at 0x290307be860>"
      ]
     },
     "metadata": {},
     "output_type": "display_data"
    }
   ],
   "source": [
    "for i in range(k):\n",
    "    # select only data observations with cluster label == i\n",
    "    ds = cardio[np.where(labels==i)]\n",
    "    # plot the data observations\n",
    "    plt.plot(ds[:,0],ds[:,1],'o', markersize=7)\n",
    "    # plot the centroids\n",
    "    lines = plt.plot(centroids[i,0],centroids[i,1],'kx')\n",
    "    # make the centroid x's bigger\n",
    "    plt.setp(lines,ms=15.0)\n",
    "    plt.setp(lines,mew=4.0)\n",
    "plt.grid(True)\n",
    "plt.title('Cardiology Data Scatter Plot')\n",
    "plt.ylabel('Age (years)')\n",
    "plt.xlabel('Cholesterol (mg)')\n",
    "plt.show()"
   ]
  },
  {
   "cell_type": "code",
   "execution_count": 115,
   "metadata": {},
   "outputs": [
    {
     "data": {
      "text/html": [
       "<div>\n",
       "<style>\n",
       "    .dataframe thead tr:only-child th {\n",
       "        text-align: right;\n",
       "    }\n",
       "\n",
       "    .dataframe thead th {\n",
       "        text-align: left;\n",
       "    }\n",
       "\n",
       "    .dataframe tbody tr th {\n",
       "        vertical-align: top;\n",
       "    }\n",
       "</style>\n",
       "<table border=\"1\" class=\"dataframe\">\n",
       "  <thead>\n",
       "    <tr style=\"text-align: right;\">\n",
       "      <th></th>\n",
       "      <th>age</th>\n",
       "      <th>sex</th>\n",
       "      <th>blood pressure</th>\n",
       "      <th>angina</th>\n",
       "      <th>class</th>\n",
       "    </tr>\n",
       "  </thead>\n",
       "  <tbody>\n",
       "    <tr>\n",
       "      <th>2</th>\n",
       "      <td>60</td>\n",
       "      <td>Male</td>\n",
       "      <td>130</td>\n",
       "      <td>True</td>\n",
       "      <td>Sick</td>\n",
       "    </tr>\n",
       "    <tr>\n",
       "      <th>3</th>\n",
       "      <td>49</td>\n",
       "      <td>Male</td>\n",
       "      <td>130</td>\n",
       "      <td>False</td>\n",
       "      <td>Healthy</td>\n",
       "    </tr>\n",
       "    <tr>\n",
       "      <th>4</th>\n",
       "      <td>64</td>\n",
       "      <td>Male</td>\n",
       "      <td>110</td>\n",
       "      <td>True</td>\n",
       "      <td>Healthy</td>\n",
       "    </tr>\n",
       "    <tr>\n",
       "      <th>5</th>\n",
       "      <td>63</td>\n",
       "      <td>Male</td>\n",
       "      <td>130</td>\n",
       "      <td>False</td>\n",
       "      <td>Sick</td>\n",
       "    </tr>\n",
       "    <tr>\n",
       "      <th>6</th>\n",
       "      <td>53</td>\n",
       "      <td>Male</td>\n",
       "      <td>140</td>\n",
       "      <td>True</td>\n",
       "      <td>Sick</td>\n",
       "    </tr>\n",
       "  </tbody>\n",
       "</table>\n",
       "</div>"
      ],
      "text/plain": [
       "  age   sex blood pressure angina    class\n",
       "2  60  Male            130   True     Sick\n",
       "3  49  Male            130  False  Healthy\n",
       "4  64  Male            110   True  Healthy\n",
       "5  63  Male            130  False     Sick\n",
       "6  53  Male            140   True     Sick"
      ]
     },
     "execution_count": 115,
     "metadata": {},
     "output_type": "execute_result"
    }
   ],
   "source": [
    "#Decision Tree\n",
    "data_path = \"C:/Users/carllel colquhoun/Desktop/PYTHON FILES/LabWeek5/CardiologyCategorical.xls\"\n",
    "data = pd.read_excel(data_path)\n",
    "# Removing First two (2) rows, not part of data set\n",
    "data = data.drop([0,1],axis=0)\n",
    "# extracting selected features\n",
    "data2 = data[['age','sex','blood pressure','angina','class']]\n",
    "data2.head()"
   ]
  },
  {
   "cell_type": "code",
   "execution_count": 116,
   "metadata": {},
   "outputs": [
    {
     "name": "stdout",
     "output_type": "stream",
     "text": [
      "Encoded Values for each Label\n",
      "================================\n",
      "================================\n",
      "Encoder(sex) = ['Female' 'Male']\n",
      "        Encoded Values\n",
      "Female               0\n",
      "Male                 1\n",
      "================================\n",
      "Encoder(angina) = [False True]\n",
      "       Encoded Values\n",
      "False               0\n",
      "True                1\n",
      "================================\n",
      "Encoder(class) = ['Healthy' 'Sick']\n",
      "         Encoded Values\n",
      "Healthy               0\n",
      "Sick                  1\n"
     ]
    }
   ],
   "source": [
    "# decision tree from sklearn only accepts float/integer values for variables\n",
    "# We must therefore transform the data before applying the algorithm\n",
    "def create_label_encoder_dict(df):\n",
    "    from sklearn.preprocessing import LabelEncoder\n",
    "    \n",
    "    label_encoder_dict = {}\n",
    "    for column in df.columns:\n",
    "        # Only create encoder for categorical data types\n",
    "        if not np.issubdtype(df[column].dtype, np.number) and column != 'age' and column != 'blood pressure':\n",
    "            label_encoder_dict[column]= LabelEncoder().fit(df[column])\n",
    "    return label_encoder_dict\n",
    "\n",
    "label_encoders = create_label_encoder_dict(data2)\n",
    "print(\"Encoded Values for each Label\")\n",
    "print(\"=\"*32)\n",
    "for column in label_encoders:\n",
    "    print(\"=\"*32)\n",
    "    print('Encoder(%s) = %s' % (column, label_encoders[column].classes_ ))\n",
    "    print(pd.DataFrame([range(0,len(label_encoders[column].classes_))], columns=label_encoders[column].classes_, index=['Encoded Values']  ).T)"
   ]
  },
  {
   "cell_type": "code",
   "execution_count": 117,
   "metadata": {},
   "outputs": [
    {
     "name": "stdout",
     "output_type": "stream",
     "text": [
      "Transformed data set\n"
     ]
    },
    {
     "data": {
      "text/html": [
       "<div>\n",
       "<style>\n",
       "    .dataframe thead tr:only-child th {\n",
       "        text-align: right;\n",
       "    }\n",
       "\n",
       "    .dataframe thead th {\n",
       "        text-align: left;\n",
       "    }\n",
       "\n",
       "    .dataframe tbody tr th {\n",
       "        vertical-align: top;\n",
       "    }\n",
       "</style>\n",
       "<table border=\"1\" class=\"dataframe\">\n",
       "  <thead>\n",
       "    <tr style=\"text-align: right;\">\n",
       "      <th></th>\n",
       "      <th>age</th>\n",
       "      <th>sex</th>\n",
       "      <th>blood pressure</th>\n",
       "      <th>angina</th>\n",
       "      <th>class</th>\n",
       "    </tr>\n",
       "  </thead>\n",
       "  <tbody>\n",
       "    <tr>\n",
       "      <th>2</th>\n",
       "      <td>60</td>\n",
       "      <td>1</td>\n",
       "      <td>130</td>\n",
       "      <td>1</td>\n",
       "      <td>1</td>\n",
       "    </tr>\n",
       "    <tr>\n",
       "      <th>3</th>\n",
       "      <td>49</td>\n",
       "      <td>1</td>\n",
       "      <td>130</td>\n",
       "      <td>0</td>\n",
       "      <td>0</td>\n",
       "    </tr>\n",
       "    <tr>\n",
       "      <th>4</th>\n",
       "      <td>64</td>\n",
       "      <td>1</td>\n",
       "      <td>110</td>\n",
       "      <td>1</td>\n",
       "      <td>0</td>\n",
       "    </tr>\n",
       "    <tr>\n",
       "      <th>5</th>\n",
       "      <td>63</td>\n",
       "      <td>1</td>\n",
       "      <td>130</td>\n",
       "      <td>0</td>\n",
       "      <td>1</td>\n",
       "    </tr>\n",
       "    <tr>\n",
       "      <th>6</th>\n",
       "      <td>53</td>\n",
       "      <td>1</td>\n",
       "      <td>140</td>\n",
       "      <td>1</td>\n",
       "      <td>1</td>\n",
       "    </tr>\n",
       "  </tbody>\n",
       "</table>\n",
       "</div>"
      ],
      "text/plain": [
       "  age  sex blood pressure  angina  class\n",
       "2  60    1            130       1      1\n",
       "3  49    1            130       0      0\n",
       "4  64    1            110       1      0\n",
       "5  63    1            130       0      1\n",
       "6  53    1            140       1      1"
      ]
     },
     "execution_count": 117,
     "metadata": {},
     "output_type": "execute_result"
    }
   ],
   "source": [
    "# Apply each encoder to the data set to obtain transformed values\n",
    "data3 = data2.copy() # create copy of initial data set\n",
    "for column in data3.columns:\n",
    "    if column in label_encoders:\n",
    "        data3[column] = label_encoders[column].transform(data3[column])\n",
    "\n",
    "print(\"Transformed data set\")\n",
    "data3.head()"
   ]
  },
  {
   "cell_type": "code",
   "execution_count": 118,
   "metadata": {
    "collapsed": true
   },
   "outputs": [],
   "source": [
    "#divides data into feature set & target set\n",
    "#feature set\n",
    "X = data3[['age','sex','blood pressure','angina']]\n",
    "#target set\n",
    "Y = data3['class']"
   ]
  },
  {
   "cell_type": "code",
   "execution_count": 119,
   "metadata": {
    "collapsed": true
   },
   "outputs": [],
   "source": [
    "#split our data into training and test set using sklearn’s train_test_split() method.\n",
    "X_train, X_test, y_train, y_test = train_test_split( X, Y, test_size = 0.2, random_state = 100)"
   ]
  },
  {
   "cell_type": "code",
   "execution_count": 120,
   "metadata": {},
   "outputs": [
    {
     "data": {
      "text/plain": [
       "DecisionTreeClassifier(class_weight=None, criterion='entropy', max_depth=3,\n",
       "            max_features=None, max_leaf_nodes=None,\n",
       "            min_impurity_decrease=0.0, min_impurity_split=None,\n",
       "            min_samples_leaf=1, min_samples_split=2,\n",
       "            min_weight_fraction_leaf=0.0, presort=False, random_state=100,\n",
       "            splitter='best')"
      ]
     },
     "execution_count": 120,
     "metadata": {},
     "output_type": "execute_result"
    }
   ],
   "source": [
    "#Decision Tree Training\n",
    "#Decision Tree Classifier with criterion information gain\n",
    "clf = DecisionTreeClassifier(criterion = \"entropy\", random_state = 100, max_depth=3)\n",
    "clf.fit(X_train, y_train)"
   ]
  },
  {
   "cell_type": "code",
   "execution_count": 121,
   "metadata": {},
   "outputs": [
    {
     "name": "stdout",
     "output_type": "stream",
     "text": [
      "               Feature Significance in Decision Tree\n",
      "age                                           29.69%\n",
      "sex                                           23.64%\n",
      "blood pressure                                 4.97%\n",
      "angina                                        41.71%\n"
     ]
    }
   ],
   "source": [
    "print(pd.DataFrame([ \"%.2f%%\" % perc for perc in (clf.feature_importances_ * 100) ], index = X_data.columns, columns = ['Feature Significance in Decision Tree']))"
   ]
  },
  {
   "cell_type": "code",
   "execution_count": 122,
   "metadata": {},
   "outputs": [
    {
     "data": {
      "image/svg+xml": [
       "<?xml version=\"1.0\" encoding=\"UTF-8\" standalone=\"no\"?>\r\n",
       "<!DOCTYPE svg PUBLIC \"-//W3C//DTD SVG 1.1//EN\"\r\n",
       " \"http://www.w3.org/Graphics/SVG/1.1/DTD/svg11.dtd\">\r\n",
       "<!-- Generated by graphviz version 2.38.0 (20140413.2041)\r\n",
       " -->\r\n",
       "<!-- Title: Tree Pages: 1 -->\r\n",
       "<svg width=\"1275pt\" height=\"493pt\"\r\n",
       " viewBox=\"0.00 0.00 1275.00 493.00\" xmlns=\"http://www.w3.org/2000/svg\" xmlns:xlink=\"http://www.w3.org/1999/xlink\">\r\n",
       "<g id=\"graph0\" class=\"graph\" transform=\"scale(1 1) rotate(0) translate(4 489)\">\r\n",
       "<title>Tree</title>\r\n",
       "<polygon fill=\"white\" stroke=\"none\" points=\"-4,4 -4,-489 1271,-489 1271,4 -4,4\"/>\r\n",
       "<!-- 0 -->\r\n",
       "<g id=\"node1\" class=\"node\"><title>0</title>\r\n",
       "<path fill=\"#e58139\" fill-opacity=\"0.180392\" stroke=\"black\" d=\"M685.5,-485C685.5,-485 572.5,-485 572.5,-485 566.5,-485 560.5,-479 560.5,-473 560.5,-473 560.5,-399 560.5,-399 560.5,-393 566.5,-387 572.5,-387 572.5,-387 685.5,-387 685.5,-387 691.5,-387 697.5,-393 697.5,-399 697.5,-399 697.5,-473 697.5,-473 697.5,-479 691.5,-485 685.5,-485\"/>\r\n",
       "<text text-anchor=\"start\" x=\"602.5\" y=\"-469.8\" font-family=\"Helvetica,sans-Serif\" font-size=\"14.00\">node #0</text>\r\n",
       "<text text-anchor=\"start\" x=\"590.5\" y=\"-454.8\" font-family=\"Helvetica,sans-Serif\" font-size=\"14.00\">angina ≤ 0.5</text>\r\n",
       "<text text-anchor=\"start\" x=\"579\" y=\"-439.8\" font-family=\"Helvetica,sans-Serif\" font-size=\"14.00\">entropy = 0.993</text>\r\n",
       "<text text-anchor=\"start\" x=\"569\" y=\"-424.8\" font-family=\"Helvetica,sans-Serif\" font-size=\"14.00\">samples = 100.0%</text>\r\n",
       "<text text-anchor=\"start\" x=\"568.5\" y=\"-409.8\" font-family=\"Helvetica,sans-Serif\" font-size=\"14.00\">value = [0.55, 0.45]</text>\r\n",
       "<text text-anchor=\"start\" x=\"581\" y=\"-394.8\" font-family=\"Helvetica,sans-Serif\" font-size=\"14.00\">class = Healthy</text>\r\n",
       "</g>\r\n",
       "<!-- 1 -->\r\n",
       "<g id=\"node2\" class=\"node\"><title>1</title>\r\n",
       "<path fill=\"#e58139\" fill-opacity=\"0.556863\" stroke=\"black\" d=\"M570,-351C570,-351 440,-351 440,-351 434,-351 428,-345 428,-339 428,-339 428,-265 428,-265 428,-259 434,-253 440,-253 440,-253 570,-253 570,-253 576,-253 582,-259 582,-265 582,-265 582,-339 582,-339 582,-345 576,-351 570,-351\"/>\r\n",
       "<text text-anchor=\"start\" x=\"478.5\" y=\"-335.8\" font-family=\"Helvetica,sans-Serif\" font-size=\"14.00\">node #1</text>\r\n",
       "<text text-anchor=\"start\" x=\"471\" y=\"-320.8\" font-family=\"Helvetica,sans-Serif\" font-size=\"14.00\">age ≤ 56.5</text>\r\n",
       "<text text-anchor=\"start\" x=\"459\" y=\"-305.8\" font-family=\"Helvetica,sans-Serif\" font-size=\"14.00\">entropy = 0.89</text>\r\n",
       "<text text-anchor=\"start\" x=\"449\" y=\"-290.8\" font-family=\"Helvetica,sans-Serif\" font-size=\"14.00\">samples = 68.6%</text>\r\n",
       "<text text-anchor=\"start\" x=\"436\" y=\"-275.8\" font-family=\"Helvetica,sans-Serif\" font-size=\"14.00\">value = [0.693, 0.307]</text>\r\n",
       "<text text-anchor=\"start\" x=\"457\" y=\"-260.8\" font-family=\"Helvetica,sans-Serif\" font-size=\"14.00\">class = Healthy</text>\r\n",
       "</g>\r\n",
       "<!-- 0&#45;&gt;1 -->\r\n",
       "<g id=\"edge1\" class=\"edge\"><title>0&#45;&gt;1</title>\r\n",
       "<path fill=\"none\" stroke=\"black\" d=\"M583.882,-386.972C575.249,-377.781 566.143,-368.088 557.307,-358.681\"/>\r\n",
       "<polygon fill=\"black\" stroke=\"black\" points=\"559.69,-356.106 550.292,-351.214 554.588,-360.899 559.69,-356.106\"/>\r\n",
       "<text text-anchor=\"middle\" x=\"549.511\" y=\"-372.502\" font-family=\"Helvetica,sans-Serif\" font-size=\"14.00\">True</text>\r\n",
       "</g>\r\n",
       "<!-- 8 -->\r\n",
       "<g id=\"node9\" class=\"node\"><title>8</title>\r\n",
       "<path fill=\"#399de5\" fill-opacity=\"0.690196\" stroke=\"black\" d=\"M818,-351C818,-351 688,-351 688,-351 682,-351 676,-345 676,-339 676,-339 676,-265 676,-265 676,-259 682,-253 688,-253 688,-253 818,-253 818,-253 824,-253 830,-259 830,-265 830,-265 830,-339 830,-339 830,-345 824,-351 818,-351\"/>\r\n",
       "<text text-anchor=\"start\" x=\"726.5\" y=\"-335.8\" font-family=\"Helvetica,sans-Serif\" font-size=\"14.00\">node #8</text>\r\n",
       "<text text-anchor=\"start\" x=\"719\" y=\"-320.8\" font-family=\"Helvetica,sans-Serif\" font-size=\"14.00\">age ≤ 51.5</text>\r\n",
       "<text text-anchor=\"start\" x=\"707\" y=\"-305.8\" font-family=\"Helvetica,sans-Serif\" font-size=\"14.00\">entropy = 0.79</text>\r\n",
       "<text text-anchor=\"start\" x=\"697\" y=\"-290.8\" font-family=\"Helvetica,sans-Serif\" font-size=\"14.00\">samples = 31.4%</text>\r\n",
       "<text text-anchor=\"start\" x=\"684\" y=\"-275.8\" font-family=\"Helvetica,sans-Serif\" font-size=\"14.00\">value = [0.237, 0.763]</text>\r\n",
       "<text text-anchor=\"start\" x=\"715\" y=\"-260.8\" font-family=\"Helvetica,sans-Serif\" font-size=\"14.00\">class = Sick</text>\r\n",
       "</g>\r\n",
       "<!-- 0&#45;&gt;8 -->\r\n",
       "<g id=\"edge8\" class=\"edge\"><title>0&#45;&gt;8</title>\r\n",
       "<path fill=\"none\" stroke=\"black\" d=\"M674.118,-386.972C682.751,-377.781 691.857,-368.088 700.693,-358.681\"/>\r\n",
       "<polygon fill=\"black\" stroke=\"black\" points=\"703.412,-360.899 707.708,-351.214 698.31,-356.106 703.412,-360.899\"/>\r\n",
       "<text text-anchor=\"middle\" x=\"708.489\" y=\"-372.502\" font-family=\"Helvetica,sans-Serif\" font-size=\"14.00\">False</text>\r\n",
       "</g>\r\n",
       "<!-- 2 -->\r\n",
       "<g id=\"node3\" class=\"node\"><title>2</title>\r\n",
       "<path fill=\"#e58139\" fill-opacity=\"0.835294\" stroke=\"black\" d=\"M280,-217C280,-217 150,-217 150,-217 144,-217 138,-211 138,-205 138,-205 138,-131 138,-131 138,-125 144,-119 150,-119 150,-119 280,-119 280,-119 286,-119 292,-125 292,-131 292,-131 292,-205 292,-205 292,-211 286,-217 280,-217\"/>\r\n",
       "<text text-anchor=\"start\" x=\"188.5\" y=\"-201.8\" font-family=\"Helvetica,sans-Serif\" font-size=\"14.00\">node #2</text>\r\n",
       "<text text-anchor=\"start\" x=\"186\" y=\"-186.8\" font-family=\"Helvetica,sans-Serif\" font-size=\"14.00\">sex ≤ 0.5</text>\r\n",
       "<text text-anchor=\"start\" x=\"165\" y=\"-171.8\" font-family=\"Helvetica,sans-Serif\" font-size=\"14.00\">entropy = 0.588</text>\r\n",
       "<text text-anchor=\"start\" x=\"159\" y=\"-156.8\" font-family=\"Helvetica,sans-Serif\" font-size=\"14.00\">samples = 38.0%</text>\r\n",
       "<text text-anchor=\"start\" x=\"146\" y=\"-141.8\" font-family=\"Helvetica,sans-Serif\" font-size=\"14.00\">value = [0.859, 0.141]</text>\r\n",
       "<text text-anchor=\"start\" x=\"167\" y=\"-126.8\" font-family=\"Helvetica,sans-Serif\" font-size=\"14.00\">class = Healthy</text>\r\n",
       "</g>\r\n",
       "<!-- 1&#45;&gt;2 -->\r\n",
       "<g id=\"edge2\" class=\"edge\"><title>1&#45;&gt;2</title>\r\n",
       "<path fill=\"none\" stroke=\"black\" d=\"M427.666,-265.8C388.75,-248.086 341.452,-226.557 301.351,-208.304\"/>\r\n",
       "<polygon fill=\"black\" stroke=\"black\" points=\"302.67,-205.059 292.118,-204.102 299.77,-211.43 302.67,-205.059\"/>\r\n",
       "</g>\r\n",
       "<!-- 5 -->\r\n",
       "<g id=\"node6\" class=\"node\"><title>5</title>\r\n",
       "<path fill=\"#399de5\" fill-opacity=\"0.050980\" stroke=\"black\" d=\"M570,-217C570,-217 440,-217 440,-217 434,-217 428,-211 428,-205 428,-205 428,-131 428,-131 428,-125 434,-119 440,-119 440,-119 570,-119 570,-119 576,-119 582,-125 582,-131 582,-131 582,-205 582,-205 582,-211 576,-217 570,-217\"/>\r\n",
       "<text text-anchor=\"start\" x=\"478.5\" y=\"-201.8\" font-family=\"Helvetica,sans-Serif\" font-size=\"14.00\">node #5</text>\r\n",
       "<text text-anchor=\"start\" x=\"476\" y=\"-186.8\" font-family=\"Helvetica,sans-Serif\" font-size=\"14.00\">sex ≤ 0.5</text>\r\n",
       "<text text-anchor=\"start\" x=\"455\" y=\"-171.8\" font-family=\"Helvetica,sans-Serif\" font-size=\"14.00\">entropy = 0.999</text>\r\n",
       "<text text-anchor=\"start\" x=\"449\" y=\"-156.8\" font-family=\"Helvetica,sans-Serif\" font-size=\"14.00\">samples = 30.6%</text>\r\n",
       "<text text-anchor=\"start\" x=\"436\" y=\"-141.8\" font-family=\"Helvetica,sans-Serif\" font-size=\"14.00\">value = [0.486, 0.514]</text>\r\n",
       "<text text-anchor=\"start\" x=\"467\" y=\"-126.8\" font-family=\"Helvetica,sans-Serif\" font-size=\"14.00\">class = Sick</text>\r\n",
       "</g>\r\n",
       "<!-- 1&#45;&gt;5 -->\r\n",
       "<g id=\"edge5\" class=\"edge\"><title>1&#45;&gt;5</title>\r\n",
       "<path fill=\"none\" stroke=\"black\" d=\"M505,-252.972C505,-244.691 505,-236.003 505,-227.483\"/>\r\n",
       "<polygon fill=\"black\" stroke=\"black\" points=\"508.5,-227.214 505,-217.214 501.5,-227.214 508.5,-227.214\"/>\r\n",
       "</g>\r\n",
       "<!-- 3 -->\r\n",
       "<g id=\"node4\" class=\"node\"><title>3</title>\r\n",
       "<path fill=\"#e58139\" stroke=\"black\" d=\"M116,-83C116,-83 12,-83 12,-83 6,-83 0,-77 0,-71 0,-71 0,-12 0,-12 0,-6 6,-0 12,-0 12,-0 116,-0 116,-0 122,-0 128,-6 128,-12 128,-12 128,-71 128,-71 128,-77 122,-83 116,-83\"/>\r\n",
       "<text text-anchor=\"start\" x=\"37.5\" y=\"-67.8\" font-family=\"Helvetica,sans-Serif\" font-size=\"14.00\">node #3</text>\r\n",
       "<text text-anchor=\"start\" x=\"22\" y=\"-52.8\" font-family=\"Helvetica,sans-Serif\" font-size=\"14.00\">entropy = 0.0</text>\r\n",
       "<text text-anchor=\"start\" x=\"8\" y=\"-37.8\" font-family=\"Helvetica,sans-Serif\" font-size=\"14.00\">samples = 12.4%</text>\r\n",
       "<text text-anchor=\"start\" x=\"11.5\" y=\"-22.8\" font-family=\"Helvetica,sans-Serif\" font-size=\"14.00\">value = [1.0, 0.0]</text>\r\n",
       "<text text-anchor=\"start\" x=\"16\" y=\"-7.8\" font-family=\"Helvetica,sans-Serif\" font-size=\"14.00\">class = Healthy</text>\r\n",
       "</g>\r\n",
       "<!-- 2&#45;&gt;3 -->\r\n",
       "<g id=\"edge3\" class=\"edge\"><title>2&#45;&gt;3</title>\r\n",
       "<path fill=\"none\" stroke=\"black\" d=\"M156.619,-118.865C145.021,-109.302 132.855,-99.2708 121.293,-89.7385\"/>\r\n",
       "<polygon fill=\"black\" stroke=\"black\" points=\"123.343,-86.8921 113.401,-83.231 118.89,-92.293 123.343,-86.8921\"/>\r\n",
       "</g>\r\n",
       "<!-- 4 -->\r\n",
       "<g id=\"node5\" class=\"node\"><title>4</title>\r\n",
       "<path fill=\"#e58139\" fill-opacity=\"0.733333\" stroke=\"black\" d=\"M271.5,-83C271.5,-83 158.5,-83 158.5,-83 152.5,-83 146.5,-77 146.5,-71 146.5,-71 146.5,-12 146.5,-12 146.5,-6 152.5,-0 158.5,-0 158.5,-0 271.5,-0 271.5,-0 277.5,-0 283.5,-6 283.5,-12 283.5,-12 283.5,-71 283.5,-71 283.5,-77 277.5,-83 271.5,-83\"/>\r\n",
       "<text text-anchor=\"start\" x=\"188.5\" y=\"-67.8\" font-family=\"Helvetica,sans-Serif\" font-size=\"14.00\">node #4</text>\r\n",
       "<text text-anchor=\"start\" x=\"165\" y=\"-52.8\" font-family=\"Helvetica,sans-Serif\" font-size=\"14.00\">entropy = 0.741</text>\r\n",
       "<text text-anchor=\"start\" x=\"159\" y=\"-37.8\" font-family=\"Helvetica,sans-Serif\" font-size=\"14.00\">samples = 25.6%</text>\r\n",
       "<text text-anchor=\"start\" x=\"154.5\" y=\"-22.8\" font-family=\"Helvetica,sans-Serif\" font-size=\"14.00\">value = [0.79, 0.21]</text>\r\n",
       "<text text-anchor=\"start\" x=\"167\" y=\"-7.8\" font-family=\"Helvetica,sans-Serif\" font-size=\"14.00\">class = Healthy</text>\r\n",
       "</g>\r\n",
       "<!-- 2&#45;&gt;4 -->\r\n",
       "<g id=\"edge4\" class=\"edge\"><title>2&#45;&gt;4</title>\r\n",
       "<path fill=\"none\" stroke=\"black\" d=\"M215,-118.865C215,-110.498 215,-101.771 215,-93.3346\"/>\r\n",
       "<polygon fill=\"black\" stroke=\"black\" points=\"218.5,-93.2309 215,-83.231 211.5,-93.231 218.5,-93.2309\"/>\r\n",
       "</g>\r\n",
       "<!-- 6 -->\r\n",
       "<g id=\"node7\" class=\"node\"><title>6</title>\r\n",
       "<path fill=\"#e58139\" fill-opacity=\"0.623529\" stroke=\"black\" d=\"M444,-83C444,-83 314,-83 314,-83 308,-83 302,-77 302,-71 302,-71 302,-12 302,-12 302,-6 308,-0 314,-0 314,-0 444,-0 444,-0 450,-0 456,-6 456,-12 456,-12 456,-71 456,-71 456,-77 450,-83 444,-83\"/>\r\n",
       "<text text-anchor=\"start\" x=\"352.5\" y=\"-67.8\" font-family=\"Helvetica,sans-Serif\" font-size=\"14.00\">node #6</text>\r\n",
       "<text text-anchor=\"start\" x=\"329\" y=\"-52.8\" font-family=\"Helvetica,sans-Serif\" font-size=\"14.00\">entropy = 0.845</text>\r\n",
       "<text text-anchor=\"start\" x=\"323\" y=\"-37.8\" font-family=\"Helvetica,sans-Serif\" font-size=\"14.00\">samples = 13.6%</text>\r\n",
       "<text text-anchor=\"start\" x=\"310\" y=\"-22.8\" font-family=\"Helvetica,sans-Serif\" font-size=\"14.00\">value = [0.727, 0.273]</text>\r\n",
       "<text text-anchor=\"start\" x=\"331\" y=\"-7.8\" font-family=\"Helvetica,sans-Serif\" font-size=\"14.00\">class = Healthy</text>\r\n",
       "</g>\r\n",
       "<!-- 5&#45;&gt;6 -->\r\n",
       "<g id=\"edge6\" class=\"edge\"><title>5&#45;&gt;6</title>\r\n",
       "<path fill=\"none\" stroke=\"black\" d=\"M456.285,-118.865C446.793,-109.486 436.845,-99.6565 427.365,-90.289\"/>\r\n",
       "<polygon fill=\"black\" stroke=\"black\" points=\"429.795,-87.7699 420.222,-83.231 424.875,-92.7492 429.795,-87.7699\"/>\r\n",
       "</g>\r\n",
       "<!-- 7 -->\r\n",
       "<g id=\"node8\" class=\"node\"><title>7</title>\r\n",
       "<path fill=\"#399de5\" fill-opacity=\"0.584314\" stroke=\"black\" d=\"M616,-83C616,-83 486,-83 486,-83 480,-83 474,-77 474,-71 474,-71 474,-12 474,-12 474,-6 480,-0 486,-0 486,-0 616,-0 616,-0 622,-0 628,-6 628,-12 628,-12 628,-71 628,-71 628,-77 622,-83 616,-83\"/>\r\n",
       "<text text-anchor=\"start\" x=\"524.5\" y=\"-67.8\" font-family=\"Helvetica,sans-Serif\" font-size=\"14.00\">node #7</text>\r\n",
       "<text text-anchor=\"start\" x=\"501\" y=\"-52.8\" font-family=\"Helvetica,sans-Serif\" font-size=\"14.00\">entropy = 0.872</text>\r\n",
       "<text text-anchor=\"start\" x=\"495\" y=\"-37.8\" font-family=\"Helvetica,sans-Serif\" font-size=\"14.00\">samples = 16.9%</text>\r\n",
       "<text text-anchor=\"start\" x=\"482\" y=\"-22.8\" font-family=\"Helvetica,sans-Serif\" font-size=\"14.00\">value = [0.293, 0.707]</text>\r\n",
       "<text text-anchor=\"start\" x=\"513\" y=\"-7.8\" font-family=\"Helvetica,sans-Serif\" font-size=\"14.00\">class = Sick</text>\r\n",
       "</g>\r\n",
       "<!-- 5&#45;&gt;7 -->\r\n",
       "<g id=\"edge7\" class=\"edge\"><title>5&#45;&gt;7</title>\r\n",
       "<path fill=\"none\" stroke=\"black\" d=\"M522.785,-118.865C525.944,-110.314 529.242,-101.388 532.423,-92.7788\"/>\r\n",
       "<polygon fill=\"black\" stroke=\"black\" points=\"535.768,-93.8242 535.951,-83.231 529.202,-91.3981 535.768,-93.8242\"/>\r\n",
       "</g>\r\n",
       "<!-- 9 -->\r\n",
       "<g id=\"node10\" class=\"node\"><title>9</title>\r\n",
       "<path fill=\"#399de5\" fill-opacity=\"0.305882\" stroke=\"black\" d=\"M823,-217C823,-217 683,-217 683,-217 677,-217 671,-211 671,-205 671,-205 671,-131 671,-131 671,-125 677,-119 683,-119 683,-119 823,-119 823,-119 829,-119 835,-125 835,-131 835,-131 835,-205 835,-205 835,-211 829,-217 823,-217\"/>\r\n",
       "<text text-anchor=\"start\" x=\"726.5\" y=\"-201.8\" font-family=\"Helvetica,sans-Serif\" font-size=\"14.00\">node #9</text>\r\n",
       "<text text-anchor=\"start\" x=\"679\" y=\"-186.8\" font-family=\"Helvetica,sans-Serif\" font-size=\"14.00\">blood pressure ≤ 105.0</text>\r\n",
       "<text text-anchor=\"start\" x=\"703\" y=\"-171.8\" font-family=\"Helvetica,sans-Serif\" font-size=\"14.00\">entropy = 0.976</text>\r\n",
       "<text text-anchor=\"start\" x=\"701.5\" y=\"-156.8\" font-family=\"Helvetica,sans-Serif\" font-size=\"14.00\">samples = 9.1%</text>\r\n",
       "<text text-anchor=\"start\" x=\"684\" y=\"-141.8\" font-family=\"Helvetica,sans-Serif\" font-size=\"14.00\">value = [0.409, 0.591]</text>\r\n",
       "<text text-anchor=\"start\" x=\"715\" y=\"-126.8\" font-family=\"Helvetica,sans-Serif\" font-size=\"14.00\">class = Sick</text>\r\n",
       "</g>\r\n",
       "<!-- 8&#45;&gt;9 -->\r\n",
       "<g id=\"edge9\" class=\"edge\"><title>8&#45;&gt;9</title>\r\n",
       "<path fill=\"none\" stroke=\"black\" d=\"M753,-252.972C753,-244.691 753,-236.003 753,-227.483\"/>\r\n",
       "<polygon fill=\"black\" stroke=\"black\" points=\"756.5,-227.214 753,-217.214 749.5,-227.214 756.5,-227.214\"/>\r\n",
       "</g>\r\n",
       "<!-- 12 -->\r\n",
       "<g id=\"node13\" class=\"node\"><title>12</title>\r\n",
       "<path fill=\"#399de5\" fill-opacity=\"0.800000\" stroke=\"black\" d=\"M1088,-217C1088,-217 948,-217 948,-217 942,-217 936,-211 936,-205 936,-205 936,-131 936,-131 936,-125 942,-119 948,-119 948,-119 1088,-119 1088,-119 1094,-119 1100,-125 1100,-131 1100,-131 1100,-205 1100,-205 1100,-211 1094,-217 1088,-217\"/>\r\n",
       "<text text-anchor=\"start\" x=\"987.5\" y=\"-201.8\" font-family=\"Helvetica,sans-Serif\" font-size=\"14.00\">node #12</text>\r\n",
       "<text text-anchor=\"start\" x=\"944\" y=\"-186.8\" font-family=\"Helvetica,sans-Serif\" font-size=\"14.00\">blood pressure ≤ 131.0</text>\r\n",
       "<text text-anchor=\"start\" x=\"972\" y=\"-171.8\" font-family=\"Helvetica,sans-Serif\" font-size=\"14.00\">entropy = 0.65</text>\r\n",
       "<text text-anchor=\"start\" x=\"962\" y=\"-156.8\" font-family=\"Helvetica,sans-Serif\" font-size=\"14.00\">samples = 22.3%</text>\r\n",
       "<text text-anchor=\"start\" x=\"949\" y=\"-141.8\" font-family=\"Helvetica,sans-Serif\" font-size=\"14.00\">value = [0.167, 0.833]</text>\r\n",
       "<text text-anchor=\"start\" x=\"980\" y=\"-126.8\" font-family=\"Helvetica,sans-Serif\" font-size=\"14.00\">class = Sick</text>\r\n",
       "</g>\r\n",
       "<!-- 8&#45;&gt;12 -->\r\n",
       "<g id=\"edge12\" class=\"edge\"><title>8&#45;&gt;12</title>\r\n",
       "<path fill=\"none\" stroke=\"black\" d=\"M830.005,-262.643C860.187,-247.609 895.058,-230.239 926.509,-214.573\"/>\r\n",
       "<polygon fill=\"black\" stroke=\"black\" points=\"928.324,-217.579 935.715,-209.987 925.203,-211.313 928.324,-217.579\"/>\r\n",
       "</g>\r\n",
       "<!-- 10 -->\r\n",
       "<g id=\"node11\" class=\"node\"><title>10</title>\r\n",
       "<path fill=\"#e58139\" stroke=\"black\" d=\"M755.5,-83C755.5,-83 658.5,-83 658.5,-83 652.5,-83 646.5,-77 646.5,-71 646.5,-71 646.5,-12 646.5,-12 646.5,-6 652.5,-0 658.5,-0 658.5,-0 755.5,-0 755.5,-0 761.5,-0 767.5,-6 767.5,-12 767.5,-12 767.5,-71 767.5,-71 767.5,-77 761.5,-83 755.5,-83\"/>\r\n",
       "<text text-anchor=\"start\" x=\"676.5\" y=\"-67.8\" font-family=\"Helvetica,sans-Serif\" font-size=\"14.00\">node #10</text>\r\n",
       "<text text-anchor=\"start\" x=\"665\" y=\"-52.8\" font-family=\"Helvetica,sans-Serif\" font-size=\"14.00\">entropy = 0.0</text>\r\n",
       "<text text-anchor=\"start\" x=\"655.5\" y=\"-37.8\" font-family=\"Helvetica,sans-Serif\" font-size=\"14.00\">samples = 0.8%</text>\r\n",
       "<text text-anchor=\"start\" x=\"654.5\" y=\"-22.8\" font-family=\"Helvetica,sans-Serif\" font-size=\"14.00\">value = [1.0, 0.0]</text>\r\n",
       "<text text-anchor=\"start\" x=\"659\" y=\"-7.8\" font-family=\"Helvetica,sans-Serif\" font-size=\"14.00\">class = Healthy</text>\r\n",
       "</g>\r\n",
       "<!-- 9&#45;&gt;10 -->\r\n",
       "<g id=\"edge10\" class=\"edge\"><title>9&#45;&gt;10</title>\r\n",
       "<path fill=\"none\" stroke=\"black\" d=\"M735.215,-118.865C732.056,-110.314 728.758,-101.388 725.577,-92.7788\"/>\r\n",
       "<polygon fill=\"black\" stroke=\"black\" points=\"728.798,-91.3981 722.049,-83.231 722.232,-93.8242 728.798,-91.3981\"/>\r\n",
       "</g>\r\n",
       "<!-- 11 -->\r\n",
       "<g id=\"node12\" class=\"node\"><title>11</title>\r\n",
       "<path fill=\"#399de5\" fill-opacity=\"0.462745\" stroke=\"black\" d=\"M910.5,-83C910.5,-83 797.5,-83 797.5,-83 791.5,-83 785.5,-77 785.5,-71 785.5,-71 785.5,-12 785.5,-12 785.5,-6 791.5,-0 797.5,-0 797.5,-0 910.5,-0 910.5,-0 916.5,-0 922.5,-6 922.5,-12 922.5,-12 922.5,-71 922.5,-71 922.5,-77 916.5,-83 910.5,-83\"/>\r\n",
       "<text text-anchor=\"start\" x=\"823.5\" y=\"-67.8\" font-family=\"Helvetica,sans-Serif\" font-size=\"14.00\">node #11</text>\r\n",
       "<text text-anchor=\"start\" x=\"804\" y=\"-52.8\" font-family=\"Helvetica,sans-Serif\" font-size=\"14.00\">entropy = 0.934</text>\r\n",
       "<text text-anchor=\"start\" x=\"802.5\" y=\"-37.8\" font-family=\"Helvetica,sans-Serif\" font-size=\"14.00\">samples = 8.3%</text>\r\n",
       "<text text-anchor=\"start\" x=\"793.5\" y=\"-22.8\" font-family=\"Helvetica,sans-Serif\" font-size=\"14.00\">value = [0.35, 0.65]</text>\r\n",
       "<text text-anchor=\"start\" x=\"816\" y=\"-7.8\" font-family=\"Helvetica,sans-Serif\" font-size=\"14.00\">class = Sick</text>\r\n",
       "</g>\r\n",
       "<!-- 9&#45;&gt;11 -->\r\n",
       "<g id=\"edge11\" class=\"edge\"><title>9&#45;&gt;11</title>\r\n",
       "<path fill=\"none\" stroke=\"black\" d=\"M792.049,-118.865C799.434,-109.762 807.163,-100.234 814.56,-91.1167\"/>\r\n",
       "<polygon fill=\"black\" stroke=\"black\" points=\"817.375,-93.2019 820.957,-83.231 811.939,-88.7918 817.375,-93.2019\"/>\r\n",
       "</g>\r\n",
       "<!-- 13 -->\r\n",
       "<g id=\"node14\" class=\"node\"><title>13</title>\r\n",
       "<path fill=\"#399de5\" fill-opacity=\"0.878431\" stroke=\"black\" d=\"M1083,-83C1083,-83 953,-83 953,-83 947,-83 941,-77 941,-71 941,-71 941,-12 941,-12 941,-6 947,-0 953,-0 953,-0 1083,-0 1083,-0 1089,-0 1095,-6 1095,-12 1095,-12 1095,-71 1095,-71 1095,-77 1089,-83 1083,-83\"/>\r\n",
       "<text text-anchor=\"start\" x=\"987.5\" y=\"-67.8\" font-family=\"Helvetica,sans-Serif\" font-size=\"14.00\">node #13</text>\r\n",
       "<text text-anchor=\"start\" x=\"968\" y=\"-52.8\" font-family=\"Helvetica,sans-Serif\" font-size=\"14.00\">entropy = 0.491</text>\r\n",
       "<text text-anchor=\"start\" x=\"962\" y=\"-37.8\" font-family=\"Helvetica,sans-Serif\" font-size=\"14.00\">samples = 11.6%</text>\r\n",
       "<text text-anchor=\"start\" x=\"949\" y=\"-22.8\" font-family=\"Helvetica,sans-Serif\" font-size=\"14.00\">value = [0.107, 0.893]</text>\r\n",
       "<text text-anchor=\"start\" x=\"980\" y=\"-7.8\" font-family=\"Helvetica,sans-Serif\" font-size=\"14.00\">class = Sick</text>\r\n",
       "</g>\r\n",
       "<!-- 12&#45;&gt;13 -->\r\n",
       "<g id=\"edge13\" class=\"edge\"><title>12&#45;&gt;13</title>\r\n",
       "<path fill=\"none\" stroke=\"black\" d=\"M1018,-118.865C1018,-110.498 1018,-101.771 1018,-93.3346\"/>\r\n",
       "<polygon fill=\"black\" stroke=\"black\" points=\"1021.5,-93.2309 1018,-83.231 1014.5,-93.231 1021.5,-93.2309\"/>\r\n",
       "</g>\r\n",
       "<!-- 14 -->\r\n",
       "<g id=\"node15\" class=\"node\"><title>14</title>\r\n",
       "<path fill=\"#399de5\" fill-opacity=\"0.701961\" stroke=\"black\" d=\"M1255,-83C1255,-83 1125,-83 1125,-83 1119,-83 1113,-77 1113,-71 1113,-71 1113,-12 1113,-12 1113,-6 1119,-0 1125,-0 1125,-0 1255,-0 1255,-0 1261,-0 1267,-6 1267,-12 1267,-12 1267,-71 1267,-71 1267,-77 1261,-83 1255,-83\"/>\r\n",
       "<text text-anchor=\"start\" x=\"1159.5\" y=\"-67.8\" font-family=\"Helvetica,sans-Serif\" font-size=\"14.00\">node #14</text>\r\n",
       "<text text-anchor=\"start\" x=\"1140\" y=\"-52.8\" font-family=\"Helvetica,sans-Serif\" font-size=\"14.00\">entropy = 0.779</text>\r\n",
       "<text text-anchor=\"start\" x=\"1134\" y=\"-37.8\" font-family=\"Helvetica,sans-Serif\" font-size=\"14.00\">samples = 10.7%</text>\r\n",
       "<text text-anchor=\"start\" x=\"1121\" y=\"-22.8\" font-family=\"Helvetica,sans-Serif\" font-size=\"14.00\">value = [0.231, 0.769]</text>\r\n",
       "<text text-anchor=\"start\" x=\"1152\" y=\"-7.8\" font-family=\"Helvetica,sans-Serif\" font-size=\"14.00\">class = Sick</text>\r\n",
       "</g>\r\n",
       "<!-- 12&#45;&gt;14 -->\r\n",
       "<g id=\"edge14\" class=\"edge\"><title>12&#45;&gt;14</title>\r\n",
       "<path fill=\"none\" stroke=\"black\" d=\"M1084.5,-118.865C1098.04,-109.062 1112.27,-98.7658 1125.73,-89.0201\"/>\r\n",
       "<polygon fill=\"black\" stroke=\"black\" points=\"1127.95,-91.7312 1134,-83.0325 1123.85,-86.0608 1127.95,-91.7312\"/>\r\n",
       "</g>\r\n",
       "</g>\r\n",
       "</svg>\r\n"
      ],
      "text/plain": [
       "<graphviz.files.Source at 0x29032730748>"
      ]
     },
     "execution_count": 122,
     "metadata": {},
     "output_type": "execute_result"
    }
   ],
   "source": [
    "import os\n",
    "os.environ[\"PATH\"] += os.pathsep + 'C:/Program Files (x86)/Graphviz2.38/bin/'\n",
    "\n",
    "import graphviz\n",
    "\n",
    "dot_data = tree.export_graphviz(clf,out_file=None, \n",
    "                                feature_names=X_data.columns, \n",
    "                         class_names=label_encoders[Y_data.name].classes_,  \n",
    "                         filled=True, rounded=True,  proportion=True,\n",
    "                                node_ids=True, #impurity=False,\n",
    "                         special_characters=True)\n",
    "\n",
    "graph = graphviz.Source(dot_data) \n",
    "graph"
   ]
  },
  {
   "cell_type": "code",
   "execution_count": 123,
   "metadata": {},
   "outputs": [
    {
     "data": {
      "text/plain": [
       "array([0], dtype=int64)"
      ]
     },
     "execution_count": 123,
     "metadata": {},
     "output_type": "execute_result"
    }
   ],
   "source": [
    "#After we have fitted the model, we are ready to predict classes for our test set. We can use predict() method\n",
    "#So we have two test set for patient A:age=50,sex=male(1),blood pressure=135 & angina=false(0)\n",
    "#Target =class(sick:1,healthy:0)\n",
    "clf.predict([[50,1,135,0]])"
   ]
  },
  {
   "cell_type": "code",
   "execution_count": 124,
   "metadata": {},
   "outputs": [
    {
     "data": {
      "text/plain": [
       "array([1], dtype=int64)"
      ]
     },
     "execution_count": 124,
     "metadata": {},
     "output_type": "execute_result"
    }
   ],
   "source": [
    "clf.predict([[65,0,180,1]])"
   ]
  },
  {
   "cell_type": "code",
   "execution_count": 125,
   "metadata": {},
   "outputs": [
    {
     "data": {
      "text/plain": [
       "array([0, 0, 1, 1, 1, 1, 0, 1, 1, 0, 0, 1, 0, 0, 1, 0, 1, 1, 1, 0, 0, 0, 1,\n",
       "       1, 1, 1, 1, 1, 0, 0, 1, 1, 0, 0, 1, 1, 0, 1, 0, 0, 1, 0, 0, 1, 1, 1,\n",
       "       1, 1, 1, 0, 1, 0, 0, 0, 0, 1, 0, 0, 1, 0, 1], dtype=int64)"
      ]
     },
     "execution_count": 125,
     "metadata": {},
     "output_type": "execute_result"
    }
   ],
   "source": [
    "#predict target variable for the whole test dataset.(sick:1,healthy:0)\n",
    "y_pred = clf.predict(X_test)\n",
    "y_pred"
   ]
  },
  {
   "cell_type": "code",
   "execution_count": 126,
   "metadata": {},
   "outputs": [
    {
     "name": "stdout",
     "output_type": "stream",
     "text": [
      "Accuracy for Decision Tree classifier with criterion as IG is  70.4918032787\n"
     ]
    }
   ],
   "source": [
    "#The function accuracy_score() will be used to print accuracy of Decision Tree algorithm\n",
    "#By accuracy, we mean the ratio of the correctly predicted data points to all the predicted data points.\n",
    "#Accuracy for Decision Tree classifier with criterion as information gain\n",
    "print (\"Accuracy for Decision Tree classifier with criterion as IG is \", accuracy_score(y_test,y_pred)*100)"
   ]
  },
  {
   "cell_type": "code",
   "execution_count": null,
   "metadata": {
    "collapsed": true
   },
   "outputs": [],
   "source": []
  }
 ],
 "metadata": {
  "kernelspec": {
   "display_name": "Python 3",
   "language": "python",
   "name": "python3"
  },
  "language_info": {
   "codemirror_mode": {
    "name": "ipython",
    "version": 3
   },
   "file_extension": ".py",
   "mimetype": "text/x-python",
   "name": "python",
   "nbconvert_exporter": "python",
   "pygments_lexer": "ipython3",
   "version": "3.6.3"
  }
 },
 "nbformat": 4,
 "nbformat_minor": 2
}
